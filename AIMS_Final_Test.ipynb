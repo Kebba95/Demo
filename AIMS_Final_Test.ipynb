{
  "cells": [
    {
      "cell_type": "markdown",
      "id": "cb97916d-feb4-4c6f-aa16-bfc48b6034fa",
      "metadata": {
        "deletable": false,
        "editable": false,
        "id": "cb97916d-feb4-4c6f-aa16-bfc48b6034fa"
      },
      "source": [
        "Create a list of length 41 with all elements having the value 0. Assign the list to the variable `lstzero`."
      ]
    },
    {
      "cell_type": "code",
      "execution_count": null,
      "id": "52a50195-6921-4b9e-8ccb-6941e5a5c601",
      "metadata": {
        "deletable": false,
        "id": "52a50195-6921-4b9e-8ccb-6941e5a5c601"
      },
      "outputs": [],
      "source": []
    },
    {
      "cell_type": "markdown",
      "id": "a1b5f2f1-31be-4642-8615-d0847472d176",
      "metadata": {
        "deletable": false,
        "editable": false,
        "id": "a1b5f2f1-31be-4642-8615-d0847472d176"
      },
      "source": [
        "Consider the list below `lst2d` below, use for loop or list comprehension to extract the element in the second index of each sublist into a new list. Your new list should therefore have the elements `[21,22,23,24,25,26,27,28,29]`. Your new list should be assigned to the variable `lst2d2`"
      ]
    },
    {
      "cell_type": "code",
      "execution_count": null,
      "id": "cc98146d-a3fa-4182-b174-e8a06c782a44",
      "metadata": {
        "deletable": false,
        "editable": false,
        "id": "cc98146d-a3fa-4182-b174-e8a06c782a44"
      },
      "outputs": [],
      "source": [
        "lst2d = [[1, 11, 21, 31], [2, 12, 22, 32], [3, 13, 23, 33], [4, 14, 24, 34],\n",
        "         [5, 15, 25, 35], [6, 16, 26, 36], [7, 17, 27, 37], [8, 18, 28, 38], [9, 19, 29, 39]]"
      ]
    },
    {
      "cell_type": "code",
      "execution_count": null,
      "id": "f0d0cbb9-a701-4e90-9b56-c5e95c49a1dc",
      "metadata": {
        "deletable": false,
        "id": "f0d0cbb9-a701-4e90-9b56-c5e95c49a1dc"
      },
      "outputs": [],
      "source": []
    },
    {
      "cell_type": "markdown",
      "id": "174b12f4-adfa-40d2-baa3-662fc9a29a15",
      "metadata": {
        "deletable": false,
        "editable": false,
        "id": "174b12f4-adfa-40d2-baa3-662fc9a29a15"
      },
      "source": [
        "Consider the list `lst2dnew` below, use loop or list comprehension to extract the following list `[1, 12, 23, 34, 5, 16, 27, 38, 9]` from `lst2dnew`. [Hint: Think modular arithmetic using the indexing]"
      ]
    },
    {
      "cell_type": "code",
      "execution_count": null,
      "id": "09721031-3037-4568-ac4a-83a28adc58b7",
      "metadata": {
        "deletable": false,
        "editable": false,
        "id": "09721031-3037-4568-ac4a-83a28adc58b7"
      },
      "outputs": [],
      "source": [
        "lst2dnew = [[1, 11, 21, 31], [2, 12, 22, 32], [3, 13, 23, 33], [4, 14, 24, 34],\n",
        "         [5, 15, 25, 35], [6, 16, 26, 36], [7, 17, 27, 37], [8, 18, 28, 38], [9, 19, 29, 39]]"
      ]
    },
    {
      "cell_type": "code",
      "execution_count": null,
      "id": "30d8e784-ebf6-427a-a0f7-cd290f530278",
      "metadata": {
        "deletable": false,
        "id": "30d8e784-ebf6-427a-a0f7-cd290f530278"
      },
      "outputs": [],
      "source": []
    },
    {
      "cell_type": "markdown",
      "id": "37bb75af-308b-4f95-8c98-2d7a7e73410c",
      "metadata": {
        "deletable": false,
        "editable": false,
        "id": "37bb75af-308b-4f95-8c98-2d7a7e73410c"
      },
      "source": [
        "The tuples `a` and `b` below represent position vectors of two points in the plane. Write python code to calculate the (Euclidean) distance between the two vectors."
      ]
    },
    {
      "cell_type": "code",
      "execution_count": null,
      "id": "141a3d04-bd93-434c-a97f-70929aed2845",
      "metadata": {
        "deletable": false,
        "editable": false,
        "id": "141a3d04-bd93-434c-a97f-70929aed2845"
      },
      "outputs": [],
      "source": [
        "a = (-2,5)\n",
        "b = (4,-3)"
      ]
    },
    {
      "cell_type": "code",
      "execution_count": null,
      "id": "2bbaa981-ea20-452e-838c-dfad58a6f39f",
      "metadata": {
        "deletable": false,
        "id": "2bbaa981-ea20-452e-838c-dfad58a6f39f"
      },
      "outputs": [],
      "source": []
    },
    {
      "cell_type": "markdown",
      "id": "beacfb35-3a0c-4a06-9319-bfe1e7c330de",
      "metadata": {
        "deletable": false,
        "editable": false,
        "id": "beacfb35-3a0c-4a06-9319-bfe1e7c330de"
      },
      "source": [
        "Use python code to generate the arithmetic progression `a,a+d,a+2d,a+3d,...,a+20d` where `a=12` and `d=36` as a list. Assign your list to the variable `AP`. Also find the sum of the sequence. Present the two results as a dictionary with keys `'AP'` for the list AP and `'APsum'` for the sum of the elements"
      ]
    },
    {
      "cell_type": "code",
      "execution_count": null,
      "id": "b490dd5b-5f8c-4df3-8ce3-bf8ee2f778fc",
      "metadata": {
        "deletable": false,
        "id": "b490dd5b-5f8c-4df3-8ce3-bf8ee2f778fc"
      },
      "outputs": [],
      "source": []
    },
    {
      "cell_type": "code",
      "execution_count": null,
      "id": "c6d3d9ce-9d5c-40e6-ad9e-d53140ab2edc",
      "metadata": {
        "deletable": false,
        "editable": false,
        "id": "c6d3d9ce-9d5c-40e6-ad9e-d53140ab2edc"
      },
      "outputs": [],
      "source": [
        "import numpy as np"
      ]
    },
    {
      "cell_type": "markdown",
      "id": "68541606-2e3b-4240-a3a9-b4f8d8ddc2ea",
      "metadata": {
        "deletable": false,
        "editable": false,
        "id": "68541606-2e3b-4240-a3a9-b4f8d8ddc2ea"
      },
      "source": [
        "Consider the array `xh` below. The harmonic mean of positive real numbers $x_1,x_2,\\ldots,x_n$ is\n",
        "$$x = \\frac{n}{\\frac{1}{x_1}+\\frac{1}{x_2}+\\ldots+\\frac{1}{x_n}}=\\left(\\frac{\\sum_{i=1}^n x_i^{-1}}{n}\\right)^{-1}.$$ Write code to find the harmonic mean of `xh`"
      ]
    },
    {
      "cell_type": "code",
      "execution_count": null,
      "id": "243dbfa7-aca6-4651-85f3-a2761f12269b",
      "metadata": {
        "deletable": false,
        "editable": false,
        "id": "243dbfa7-aca6-4651-85f3-a2761f12269b"
      },
      "outputs": [],
      "source": [
        "xh = np.linspace(1,21,101)"
      ]
    },
    {
      "cell_type": "code",
      "execution_count": null,
      "id": "7ce85154-8d12-43ab-8f4a-fa96ba6f01e5",
      "metadata": {
        "deletable": false,
        "id": "7ce85154-8d12-43ab-8f4a-fa96ba6f01e5"
      },
      "outputs": [],
      "source": []
    },
    {
      "cell_type": "markdown",
      "id": "7f4d5fdb-11e5-4598-ae39-9f2a86d01ecf",
      "metadata": {
        "deletable": false,
        "editable": false,
        "id": "7f4d5fdb-11e5-4598-ae39-9f2a86d01ecf"
      },
      "source": [
        "Create an array to represent the function $$ y = e^{-\\left(x/2\\right)^2} $$ for $x\\in [-2,2]$ with 151 points in the array. The exponential function is represented as the function `exp` in numpy"
      ]
    },
    {
      "cell_type": "code",
      "execution_count": null,
      "id": "0ba1f771-015d-4697-8852-b9e4895e175d",
      "metadata": {
        "deletable": false,
        "id": "0ba1f771-015d-4697-8852-b9e4895e175d"
      },
      "outputs": [],
      "source": []
    },
    {
      "cell_type": "markdown",
      "id": "d54b1a60-e981-422c-bd0e-0990111d465f",
      "metadata": {
        "deletable": false,
        "editable": false,
        "id": "d54b1a60-e981-422c-bd0e-0990111d465f"
      },
      "source": [
        "Also plot $x$ against $y$ using dashed lines. Your line should have the colour purple. Your plot should be given the title \"Plot of exponential function.\" The function plt.title can be used for it. You should also add an $x-$axis label \"x-axis\" using the function plt.xlabel and $y-$axis label \"y-axis\" using the function plt.ylabel"
      ]
    },
    {
      "cell_type": "code",
      "execution_count": null,
      "id": "c9f442ef-128b-4470-b7cf-55d0fda84e3f",
      "metadata": {
        "deletable": false,
        "editable": false,
        "id": "c9f442ef-128b-4470-b7cf-55d0fda84e3f"
      },
      "outputs": [],
      "source": [
        "import matplotlib.pyplot as plt"
      ]
    },
    {
      "cell_type": "code",
      "execution_count": null,
      "id": "977c9caf-398b-4b9c-8ce0-fbe7aa68eb8c",
      "metadata": {
        "deletable": false,
        "id": "977c9caf-398b-4b9c-8ce0-fbe7aa68eb8c"
      },
      "outputs": [],
      "source": []
    }
  ],
  "metadata": {
    "kernelspec": {
      "display_name": "Python 3 (ipykernel)",
      "language": "python",
      "name": "python3"
    },
    "language_info": {
      "codemirror_mode": {
        "name": "ipython",
        "version": 3
      },
      "file_extension": ".py",
      "mimetype": "text/x-python",
      "name": "python",
      "nbconvert_exporter": "python",
      "pygments_lexer": "ipython3",
      "version": "3.11.7"
    },
    "colab": {
      "provenance": []
    }
  },
  "nbformat": 4,
  "nbformat_minor": 5
}